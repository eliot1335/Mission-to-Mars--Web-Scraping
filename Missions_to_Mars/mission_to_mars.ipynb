{
 "metadata": {
  "language_info": {
   "codemirror_mode": {
    "name": "ipython",
    "version": 3
   },
   "file_extension": ".py",
   "mimetype": "text/x-python",
   "name": "python",
   "nbconvert_exporter": "python",
   "pygments_lexer": "ipython3",
   "version": "3.8.3-final"
  },
  "orig_nbformat": 2,
  "kernelspec": {
   "name": "python3",
   "display_name": "Python 3.8.3 64-bit ('dv_u12_pip': conda)",
   "metadata": {
    "interpreter": {
     "hash": "686725e5a10d5481ff770f2e0a0bb85e39a17c2396e44466ecd3f149ddd73f40"
    }
   }
  }
 },
 "nbformat": 4,
 "nbformat_minor": 2,
 "cells": [
  {
   "cell_type": "code",
   "execution_count": 1,
   "metadata": {},
   "outputs": [],
   "source": [
    "# Import dependencies\n",
    "from bs4 import BeautifulSoup as bs\n",
    "from splinter import Browser\n",
    "from webdriver_manager.chrome import ChromeDriverManager\n",
    "import requests\n",
    "import pandas as pd\n",
    "import time"
   ]
  },
  {
   "cell_type": "code",
   "execution_count": 2,
   "metadata": {},
   "outputs": [
    {
     "output_type": "stream",
     "name": "stderr",
     "text": [
      "[WDM] - Current google-chrome version is 87.0.4280\n",
      "[WDM] - Get LATEST driver version for 87.0.4280\n",
      "[WDM] - Driver [C:\\Users\\eliot\\.wdm\\drivers\\chromedriver\\win32\\87.0.4280.88\\chromedriver.exe] found in cache\n",
      " \n"
     ]
    }
   ],
   "source": [
    "# Setup splinter\n",
    "executable_path = {\"executable_path\": ChromeDriverManager().install()}\n",
    "browser = Browser(\"chrome\", **executable_path, headless=False)"
   ]
  },
  {
   "source": [
    "## NASA Mars News"
   ],
   "cell_type": "markdown",
   "metadata": {}
  },
  {
   "cell_type": "code",
   "execution_count": null,
   "metadata": {},
   "outputs": [],
   "source": [
    "# Scrape the NASA Mars News Site and collect the latest News Title and Pragraph Text\n",
    "# Assign the text the variables that I can reference later\n",
    "\n",
    "# The url to scrae, NASA Mars News Site\n",
    "url = \"https://mars.nasa.gov/news/\"\n",
    "\n",
    "browser.visit(url)\n",
    "html = browser.html\n",
    "\n",
    "\n",
    "# print(html)"
   ]
  },
  {
   "cell_type": "code",
   "execution_count": null,
   "metadata": {},
   "outputs": [],
   "source": [
    "# Create a Beautiful Soup object\n",
    "soup = bs(html, \"html.parser\")"
   ]
  },
  {
   "cell_type": "code",
   "execution_count": null,
   "metadata": {},
   "outputs": [],
   "source": [
    "# Scrape latest news, get title and paragraph\n",
    "# Search for div and class=content_title\n",
    "titles = soup.find_all(\"div\", class_=\"content_title\")\n",
    "# news_titles\n",
    "\n",
    "# A blank list to hold titles\n",
    "news_titles = []\n",
    "# Loop over results\n",
    "for news_title in titles:\n",
    "    # Check if it has an anchor...\n",
    "    if (news_title.a):\n",
    "        # Check if it has non-blank text...\n",
    "        if (news_title.a.text):\n",
    "            # Strip it for text and push to list\n",
    "            news_titles.append(news_title.a.text.strip())\n",
    "\n",
    "latest_news_title = news_titles[0]\n",
    "latest_news_title"
   ]
  },
  {
   "cell_type": "code",
   "execution_count": null,
   "metadata": {},
   "outputs": [],
   "source": [
    "# Get paragraph\n",
    "# article_teaser_body don't have an anchor\n",
    "paragraphs = soup.find_all(\"div\", class_=\"article_teaser_body\")\n",
    "\n",
    "# A blank list to hold teaser paragraphs\n",
    "news_paragraphs = []\n",
    "\n",
    "for news_paragraph in paragraphs:\n",
    "    # Check if it has non-blank text...\n",
    "    if (news_paragraph.text):\n",
    "        # Strip it for text and push to list\n",
    "        news_paragraphs.append(news_paragraph.text.strip())\n",
    "\n",
    "latest_news_paragraph = news_paragraphs[0]\n",
    "latest_news_paragraph\n"
   ]
  },
  {
   "source": [
    "## JPL Mars Space Images - Featured Image"
   ],
   "cell_type": "markdown",
   "metadata": {}
  },
  {
   "cell_type": "code",
   "execution_count": null,
   "metadata": {},
   "outputs": [],
   "source": [
    "# Find the image url for the current Featured Mars Image and assign the url to featured_image_url\n",
    "# The url to scrape,  JPL Featured Space Image\n",
    "given_url = \"https://www.jpl.nasa.gov/spaceimages/?search=&category=Mars\"\n",
    "browser.visit(given_url)\n",
    "\n",
    "# Get splinter to click on the link of the latest featured image\n",
    "browser.click_link_by_partial_href(\"/images/daedalia-planum-70/\")"
   ]
  },
  {
   "cell_type": "code",
   "execution_count": null,
   "metadata": {},
   "outputs": [],
   "source": [
    "time.sleep(1)"
   ]
  },
  {
   "cell_type": "code",
   "execution_count": null,
   "metadata": {},
   "outputs": [],
   "source": [
    "html = browser.html\n",
    "soup = bs(html, \"html.parser\")\n",
    "\n",
    "images = soup.find_all(\"img\", class_=\"BaseImage object-scale-down\")\n",
    "for image in images:\n",
    "    featured_image_url = image[\"src\"]\n",
    "\n",
    "featured_image_url"
   ]
  },
  {
   "source": [
    "## Mars Facts"
   ],
   "cell_type": "markdown",
   "metadata": {}
  },
  {
   "cell_type": "code",
   "execution_count": null,
   "metadata": {},
   "outputs": [],
   "source": [
    "# Scrape Mars Facts page to convert a HTML table using pandas\n",
    "facts_url = \"https://space-facts.com/mars/\"\n",
    "\n",
    "mars_facts = pd.read_html(facts_url)\n",
    "\n",
    "mars_df = mars_facts[0]\n",
    "mars_df.columns = [\"Description\", \"Value\"]\n",
    "mars_df.set_index(\"Description\", inplace=True)\n",
    "\n",
    "mars_df_html = mars_df.to_html()\n",
    "print(mars_df_html)"
   ]
  },
  {
   "source": [
    "## Mars Hemispheres"
   ],
   "cell_type": "markdown",
   "metadata": {}
  },
  {
   "cell_type": "code",
   "execution_count": 37,
   "metadata": {},
   "outputs": [
    {
     "output_type": "execute_result",
     "data": {
      "text/plain": [
       "[{'title': 'Cerberus Hemisphere Enhanced',\n",
       "  'img_url': 'https://astrogeology.usgs.gov/cache/images/f5e372a36edfa389625da6d0cc25d905_cerberus_enhanced.tif_full.jpg'},\n",
       " {'title': 'Cerberus Hemisphere Enhanced',\n",
       "  'img_url': 'https://astrogeology.usgs.gov/cache/images/3778f7b43bbbc89d6e3cfabb3613ba93_schiaparelli_enhanced.tif_full.jpg'},\n",
       " {'title': 'Cerberus Hemisphere Enhanced',\n",
       "  'img_url': 'https://astrogeology.usgs.gov/cache/images/555e6403a6ddd7ba16ddb0e471cadcf7_syrtis_major_enhanced.tif_full.jpg'},\n",
       " {'title': 'Cerberus Hemisphere Enhanced',\n",
       "  'img_url': 'https://astrogeology.usgs.gov/cache/images/b3c7c6c9138f57b4756be9b9c43e3a48_valles_marineris_enhanced.tif_full.jpg'}]"
      ]
     },
     "metadata": {},
     "execution_count": 37
    }
   ],
   "source": [
    "# Scrape the USGS Astrogeology site for high res pics of Mar's hemispheres\n",
    "hemispheres_url = \"https://astrogeology.usgs.gov/search/results?q=hemisphere+enhanced&k1=target&v1=Mars\"\n",
    "browser.visit(hemispheres_url)\n",
    "\n",
    "html = browser.html\n",
    "soup = bs(html, \"html.parser\")\n",
    "\n",
    "hemisphere_image_urls = []\n",
    "hemi_list = soup.find_all(\"div\", class_=\"item\")\n",
    "\n",
    "for x in range(len(hemi_list)):\n",
    "    hemi_dict = {}\n",
    "    hemi_dict[\"title\"] = browser.find_by_css(\"h3\").text\n",
    "    browser.links.find_by_partial_text(\"Hemisphere\")[x].click()\n",
    "    hemi_dict[\"img_url\"] = browser.find_by_css(\"img[class='wide-image']\")[\"src\"]\n",
    "    hemisphere_image_urls.append(hemi_dict)\n",
    "    browser.back()\n",
    "\n",
    "hemisphere_image_urls"
   ]
  }
 ]
}